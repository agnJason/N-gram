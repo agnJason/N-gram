{
 "cells": [
  {
   "cell_type": "code",
   "execution_count": 42,
   "metadata": {
    "ExecuteTime": {
     "end_time": "2019-10-19T02:41:57.400073Z",
     "start_time": "2019-10-19T02:41:57.376087Z"
    }
   },
   "outputs": [],
   "source": [
    "import pandas as pd\n",
    "import numpy as np\n",
    "import os"
   ]
  },
  {
   "cell_type": "code",
   "execution_count": 43,
   "metadata": {
    "ExecuteTime": {
     "end_time": "2019-10-19T02:42:04.260578Z",
     "start_time": "2019-10-19T02:42:03.276571Z"
    }
   },
   "outputs": [],
   "source": [
    "def read_txt(filepath):\n",
    "    contents = []\n",
    "    for root, dirs, files in os.walk(filepath):\n",
    "        for fname in files:\n",
    "            with open(filepath+\"\\\\\"+fname, encoding='utf-8') as f:\n",
    "                contents.append('\\n'.join(f.readlines()))\n",
    "    return files, contents\n",
    "\n",
    "files, contents = read_txt(r\"C:\\Users\\AGN's SP\\OneDrive\\课件\\自然语言处理\\tfidf\\携程\")#直接采用了上一次作业的语料"
   ]
  },
  {
   "cell_type": "code",
   "execution_count": 44,
   "metadata": {
    "ExecuteTime": {
     "end_time": "2019-10-19T02:42:47.410342Z",
     "start_time": "2019-10-19T02:42:05.930830Z"
    }
   },
   "outputs": [],
   "source": [
    "dictionary = ''.join(contents)\n",
    "stw = r\"，。/；’：….？！【】[]\"\n",
    "for n in stw:\n",
    "    dictionary = ''.join(dictionary.split(stw))\n",
    "dictionary = ''.join(dictionary.split('\\n'))\n",
    "import jieba\n",
    "dictionary = jieba.lcut(dictionary)"
   ]
  },
  {
   "cell_type": "code",
   "execution_count": 50,
   "metadata": {
    "ExecuteTime": {
     "end_time": "2019-10-19T02:44:08.962959Z",
     "start_time": "2019-10-19T02:44:08.902954Z"
    }
   },
   "outputs": [],
   "source": [
    "import collections\n",
    "def count(word_list, word_num = 1):\n",
    "    '''\n",
    "    word_list:传入所需要预测往后词语的语料 list/str\n",
    "    word_num:往后预测字/词的数量\n",
    "    '''\n",
    "    if word_list =='':\n",
    "        return '','',''\n",
    "    after_word = []\n",
    "    c = 0\n",
    "    if type(word_list)==list:\n",
    "        i = 0\n",
    "        max_length = len(dictionary)\n",
    "        n = len(word_list)\n",
    "        while i<=max_length-n:\n",
    "            #print(i)\n",
    "            j = 0\n",
    "            loc = i\n",
    "            while j<n:\n",
    "                if dictionary[loc]==word_list[j]:\n",
    "                    j = j + 1\n",
    "                    loc = loc + 1\n",
    "                else:\n",
    "                    break\n",
    "            if j==n:\n",
    "                c = c + 1\n",
    "                after_word.append(''.join(dictionary[loc:loc+word_num]))\n",
    "            i = i + 1\n",
    "    elif type(word_list)==str:\n",
    "        dictionary_1 = ''.join(dictionary)\n",
    "        i = 0\n",
    "        while i!=-1:\n",
    "            i = dictionary_1.find(word_list)\n",
    "            if i != -1:\n",
    "                c += 1\n",
    "                after_word.append(dictionary_1[i+len(word_list):i+len(word_list)+word_num])\n",
    "                dictionary_1 = dictionary_1[i+len(word_list)+word_num:]\n",
    "    counter = collections.Counter(after_word)\n",
    "    return c, after_word, counter.most_common(1)[0][0]"
   ]
  },
  {
   "cell_type": "code",
   "execution_count": 51,
   "metadata": {
    "ExecuteTime": {
     "end_time": "2019-10-19T02:44:12.799674Z",
     "start_time": "2019-10-19T02:44:10.693724Z"
    }
   },
   "outputs": [
    {
     "name": "stdout",
     "output_type": "stream",
     "text": [
      "欢\n"
     ]
    }
   ],
   "source": [
    "c, after_word, mostcommon = count('我喜')\n",
    "print(mostcommon)"
   ]
  },
  {
   "cell_type": "code",
   "execution_count": 52,
   "metadata": {
    "ExecuteTime": {
     "end_time": "2019-10-19T02:44:16.580082Z",
     "start_time": "2019-10-19T02:44:14.372858Z"
    }
   },
   "outputs": [
    {
     "name": "stdout",
     "output_type": "stream",
     "text": [
      "欢这\n"
     ]
    }
   ],
   "source": [
    "c, after_word, mostcommon = count('我喜', word_num=2)\n",
    "print(mostcommon)"
   ]
  },
  {
   "cell_type": "code",
   "execution_count": null,
   "metadata": {},
   "outputs": [],
   "source": []
  }
 ],
 "metadata": {
  "kernelspec": {
   "display_name": "Python 3",
   "language": "python",
   "name": "python3"
  },
  "language_info": {
   "codemirror_mode": {
    "name": "ipython",
    "version": 3
   },
   "file_extension": ".py",
   "mimetype": "text/x-python",
   "name": "python",
   "nbconvert_exporter": "python",
   "pygments_lexer": "ipython3",
   "version": "3.6.4"
  },
  "varInspector": {
   "cols": {
    "lenName": 16,
    "lenType": 16,
    "lenVar": 40
   },
   "kernels_config": {
    "python": {
     "delete_cmd_postfix": "",
     "delete_cmd_prefix": "del ",
     "library": "var_list.py",
     "varRefreshCmd": "print(var_dic_list())"
    },
    "r": {
     "delete_cmd_postfix": ") ",
     "delete_cmd_prefix": "rm(",
     "library": "var_list.r",
     "varRefreshCmd": "cat(var_dic_list()) "
    }
   },
   "types_to_exclude": [
    "module",
    "function",
    "builtin_function_or_method",
    "instance",
    "_Feature"
   ],
   "window_display": false
  }
 },
 "nbformat": 4,
 "nbformat_minor": 2
}
